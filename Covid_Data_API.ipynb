{
 "cells": [
  {
   "cell_type": "code",
   "execution_count": 1,
   "metadata": {},
   "outputs": [],
   "source": [
    "import sqlalchemy\n",
    "from sqlalchemy.ext.automap import automap_base\n",
    "from sqlalchemy.orm import Session\n",
    "from sqlalchemy import create_engine, func\n",
    "from sqlalchemy import create_engine, func, inspect"
   ]
  },
  {
   "cell_type": "code",
   "execution_count": 2,
   "metadata": {},
   "outputs": [],
   "source": [
    "engine = create_engine(\"sqlite:///covid_db.sqlite\")\n",
    "\n",
    "# reflect an existing database into a new model\n",
    "Base = automap_base()\n",
    "# reflect the tables\n",
    "Base.prepare(engine, reflect=True)"
   ]
  },
  {
   "cell_type": "code",
   "execution_count": 3,
   "metadata": {},
   "outputs": [
    {
     "data": {
      "text/plain": [
       "['covid_stats', 'crime_stats', 'pop_stats']"
      ]
     },
     "execution_count": 3,
     "metadata": {},
     "output_type": "execute_result"
    }
   ],
   "source": [
    "Base.classes.keys()"
   ]
  },
  {
   "cell_type": "code",
   "execution_count": 4,
   "metadata": {},
   "outputs": [],
   "source": [
    "covid_stats = Base.classes.covid_stats\n",
    "crime_stats = Base.classes.crime_stats\n",
    "pop_stats = Base.classes.pop_stats"
   ]
  },
  {
   "cell_type": "code",
   "execution_count": 5,
   "metadata": {
    "tags": []
   },
   "outputs": [
    {
     "name": "stdout",
     "output_type": "stream",
     "text": [
      "Table: covid_stats\n",
      "Zipcode BIGINT\n",
      "COVID19_Cases INTEGER\n",
      "Table: crime_stats\n",
      "Zipcode BIGINT\n",
      "Report_No BIGINT\n",
      "Table: pop_stats\n",
      "Zipcode BIGINT\n",
      "Population INTEGER\n",
      "city TEXT\n",
      "state TEXT\n",
      "latitude FLOAT\n",
      "longitude FLOAT\n"
     ]
    }
   ],
   "source": [
    "\n",
    "inspector = inspect(engine)\n",
    "tables = inspector.get_table_names()\n",
    "for table in tables:\n",
    "    columns = inspector.get_columns(table)\n",
    "    print(\"Table:\", table)\n",
    "    for column in columns:\n",
    "        print(column[\"name\"], column[\"type\"])\n",
    "    # print(\"-\"*20)\n",
    "\n"
   ]
  },
  {
   "cell_type": "code",
   "execution_count": 6,
   "metadata": {},
   "outputs": [],
   "source": [
    "session = Session(engine)"
   ]
  },
  {
   "cell_type": "code",
   "execution_count": 7,
   "metadata": {},
   "outputs": [],
   "source": [
    "covid = session.query(covid_stats.Zipcode, covid_stats.COVID19_Cases).order_by(covid_stats.COVID19_Cases).all()"
   ]
  },
  {
   "cell_type": "code",
   "execution_count": 8,
   "metadata": {
    "tags": []
   },
   "outputs": [
    {
     "name": "stdout",
     "output_type": "stream",
     "text": [
      "[(64101, 0), (64102, 0), (64146, 0), (64147, 0), (64149, 0), (64161, 0), (64163, 0), (64164, 0), (64165, 0), (64166, 0), (64167, 0), (64120, 6), (64139, 10), (64136, 13), (64156, 24), (64153, 29), (64152, 42), (64158, 42), (64105, 44), (64145, 47), (64125, 63), (64113, 67), (64138, 74), (64112, 76), (64129, 76), (64109, 80), (64154, 80), (64110, 87), (64132, 89), (64117, 105), (64108, 109), (64157, 109), (64114, 111), (64133, 115), (64137, 116), (64116, 118), (64151, 118), (64106, 119), (64126, 121), (64155, 122), (64111, 123), (64119, 125), (64118, 129), (64128, 161), (64131, 162), (64134, 163), (64130, 171), (64127, 282), (64123, 290), (64124, 406)]\n"
     ]
    }
   ],
   "source": [
    "print(covid)"
   ]
  },
  {
   "cell_type": "code",
   "execution_count": 9,
   "metadata": {},
   "outputs": [],
   "source": [
    "    data_list = []\n",
    "    covid_list = []\n",
    "    for Zipcode, COVID19_Cases in covid:\n",
    "        covid_dict = {}\n",
    "        covid_dict['zipcode'] = Zipcode\n",
    "        covid_dict['covid_cases'] = COVID19_Cases\n",
    "        covid_list.append(covid_dict)\n",
    "    data_list.append(covid_list)\n",
    "    "
   ]
  },
  {
   "cell_type": "code",
   "execution_count": 10,
   "metadata": {
    "tags": []
   },
   "outputs": [],
   "source": [
    "crime= session.query(crime_stats.Zipcode, crime_stats.Report_No).order_by(crime_stats.Zipcode).all()"
   ]
  },
  {
   "cell_type": "code",
   "execution_count": 11,
   "metadata": {},
   "outputs": [],
   "source": [
    "    crime_list = []\n",
    "    for Zipcode, Report_No in crime:\n",
    "        crime_dict = {}\n",
    "        crime_dict['zipcode'] = Zipcode\n",
    "        crime_dict['crime_cases'] = Report_No\n",
    "        crime_list.append(crime_dict)\n",
    "    data_list.append(crime_list)"
   ]
  },
  {
   "cell_type": "code",
   "execution_count": 12,
   "metadata": {},
   "outputs": [],
   "source": [
    "pop= session.query(pop_stats.Zipcode, pop_stats.Population).order_by(pop_stats.Zipcode).all()"
   ]
  },
  {
   "cell_type": "code",
   "execution_count": 13,
   "metadata": {},
   "outputs": [],
   "source": [
    "    pop_list = []\n",
    "    for Zipcode, Population in pop:\n",
    "        pop_dict = {}\n",
    "        pop_dict['zipcode'] = Zipcode\n",
    "        pop_dict['population'] = Population\n",
    "        pop_list.append(pop_dict)\n",
    "    data_list.append(pop_list)"
   ]
  },
  {
   "cell_type": "code",
   "execution_count": 14,
   "metadata": {
    "scrolled": true,
    "tags": []
   },
   "outputs": [
    {
     "name": "stdout",
     "output_type": "stream",
     "text": [
      "[[{'zipcode': 64101, 'covid_cases': 0}, {'zipcode': 64102, 'covid_cases': 0}, {'zipcode': 64146, 'covid_cases': 0}, {'zipcode': 64147, 'covid_cases': 0}, {'zipcode': 64149, 'covid_cases': 0}, {'zipcode': 64161, 'covid_cases': 0}, {'zipcode': 64163, 'covid_cases': 0}, {'zipcode': 64164, 'covid_cases': 0}, {'zipcode': 64165, 'covid_cases': 0}, {'zipcode': 64166, 'covid_cases': 0}, {'zipcode': 64167, 'covid_cases': 0}, {'zipcode': 64120, 'covid_cases': 6}, {'zipcode': 64139, 'covid_cases': 10}, {'zipcode': 64136, 'covid_cases': 13}, {'zipcode': 64156, 'covid_cases': 24}, {'zipcode': 64153, 'covid_cases': 29}, {'zipcode': 64152, 'covid_cases': 42}, {'zipcode': 64158, 'covid_cases': 42}, {'zipcode': 64105, 'covid_cases': 44}, {'zipcode': 64145, 'covid_cases': 47}, {'zipcode': 64125, 'covid_cases': 63}, {'zipcode': 64113, 'covid_cases': 67}, {'zipcode': 64138, 'covid_cases': 74}, {'zipcode': 64112, 'covid_cases': 76}, {'zipcode': 64129, 'covid_cases': 76}, {'zipcode': 64109, 'covid_cases': 80}, {'zipcode': 64154, 'covid_cases': 80}, {'zipcode': 64110, 'covid_cases': 87}, {'zipcode': 64132, 'covid_cases': 89}, {'zipcode': 64117, 'covid_cases': 105}, {'zipcode': 64108, 'covid_cases': 109}, {'zipcode': 64157, 'covid_cases': 109}, {'zipcode': 64114, 'covid_cases': 111}, {'zipcode': 64133, 'covid_cases': 115}, {'zipcode': 64137, 'covid_cases': 116}, {'zipcode': 64116, 'covid_cases': 118}, {'zipcode': 64151, 'covid_cases': 118}, {'zipcode': 64106, 'covid_cases': 119}, {'zipcode': 64126, 'covid_cases': 121}, {'zipcode': 64155, 'covid_cases': 122}, {'zipcode': 64111, 'covid_cases': 123}, {'zipcode': 64119, 'covid_cases': 125}, {'zipcode': 64118, 'covid_cases': 129}, {'zipcode': 64128, 'covid_cases': 161}, {'zipcode': 64131, 'covid_cases': 162}, {'zipcode': 64134, 'covid_cases': 163}, {'zipcode': 64130, 'covid_cases': 171}, {'zipcode': 64127, 'covid_cases': 282}, {'zipcode': 64123, 'covid_cases': 290}, {'zipcode': 64124, 'covid_cases': 406}], [{'zipcode': 64101, 'crime_cases': 85}, {'zipcode': 64102, 'crime_cases': 45}, {'zipcode': 64103, 'crime_cases': 5}, {'zipcode': 64104, 'crime_cases': 4}, {'zipcode': 64105, 'crime_cases': 805}, {'zipcode': 64106, 'crime_cases': 1971}, {'zipcode': 64107, 'crime_cases': 4}, {'zipcode': 64108, 'crime_cases': 1742}, {'zipcode': 64109, 'crime_cases': 1328}, {'zipcode': 64110, 'crime_cases': 1506}, {'zipcode': 64111, 'crime_cases': 3345}, {'zipcode': 64112, 'crime_cases': 1217}, {'zipcode': 64113, 'crime_cases': 224}, {'zipcode': 64114, 'crime_cases': 1460}, {'zipcode': 64115, 'crime_cases': 14}, {'zipcode': 64116, 'crime_cases': 812}, {'zipcode': 64117, 'crime_cases': 1124}, {'zipcode': 64118, 'crime_cases': 1314}, {'zipcode': 64119, 'crime_cases': 1008}, {'zipcode': 64120, 'crime_cases': 514}, {'zipcode': 64121, 'crime_cases': 12}, {'zipcode': 64122, 'crime_cases': 5}, {'zipcode': 64123, 'crime_cases': 945}, {'zipcode': 64124, 'crime_cases': 1692}, {'zipcode': 64125, 'crime_cases': 346}, {'zipcode': 64126, 'crime_cases': 719}, {'zipcode': 64127, 'crime_cases': 3359}, {'zipcode': 64128, 'crime_cases': 1877}, {'zipcode': 64129, 'crime_cases': 1134}, {'zipcode': 64130, 'crime_cases': 3745}, {'zipcode': 64131, 'crime_cases': 2111}, {'zipcode': 64132, 'crime_cases': 2277}, {'zipcode': 64133, 'crime_cases': 2202}, {'zipcode': 64134, 'crime_cases': 2482}, {'zipcode': 64135, 'crime_cases': 5}, {'zipcode': 64136, 'crime_cases': 108}, {'zipcode': 64137, 'crime_cases': 1028}, {'zipcode': 64138, 'crime_cases': 980}, {'zipcode': 64139, 'crime_cases': 68}, {'zipcode': 64141, 'crime_cases': 3}, {'zipcode': 64142, 'crime_cases': 1}, {'zipcode': 64143, 'crime_cases': 1}, {'zipcode': 64145, 'crime_cases': 512}, {'zipcode': 64146, 'crime_cases': 48}, {'zipcode': 64147, 'crime_cases': 113}, {'zipcode': 64148, 'crime_cases': 6}, {'zipcode': 64149, 'crime_cases': 14}, {'zipcode': 64150, 'crime_cases': 11}, {'zipcode': 64151, 'crime_cases': 932}, {'zipcode': 64152, 'crime_cases': 278}, {'zipcode': 64153, 'crime_cases': 567}, {'zipcode': 64154, 'crime_cases': 816}, {'zipcode': 64155, 'crime_cases': 845}, {'zipcode': 64156, 'crime_cases': 172}, {'zipcode': 64157, 'crime_cases': 480}, {'zipcode': 64158, 'crime_cases': 207}, {'zipcode': 64161, 'crime_cases': 208}, {'zipcode': 64163, 'crime_cases': 21}, {'zipcode': 64164, 'crime_cases': 21}, {'zipcode': 64165, 'crime_cases': 2}, {'zipcode': 64166, 'crime_cases': 2}], [{'zipcode': 64101, 'population': 278}, {'zipcode': 64102, 'population': 0}, {'zipcode': 64105, 'population': 4679}, {'zipcode': 64106, 'population': 9326}, {'zipcode': 64108, 'population': 7799}, {'zipcode': 64109, 'population': 9647}, {'zipcode': 64110, 'population': 17176}, {'zipcode': 64111, 'population': 17801}, {'zipcode': 64112, 'population': 8352}, {'zipcode': 64113, 'population': 11988}, {'zipcode': 64114, 'population': 24405}, {'zipcode': 64116, 'population': 15576}, {'zipcode': 64117, 'population': 14673}, {'zipcode': 64118, 'population': 42706}, {'zipcode': 64119, 'population': 27848}, {'zipcode': 64120, 'population': 383}, {'zipcode': 64123, 'population': 9580}, {'zipcode': 64124, 'population': 10626}, {'zipcode': 64125, 'population': 1389}, {'zipcode': 64126, 'population': 6148}, {'zipcode': 64127, 'population': 15457}, {'zipcode': 64128, 'population': 11379}, {'zipcode': 64129, 'population': 8881}, {'zipcode': 64130, 'population': 19996}, {'zipcode': 64131, 'population': 22932}, {'zipcode': 64132, 'population': 14817}, {'zipcode': 64133, 'population': 35163}, {'zipcode': 64134, 'population': 23874}, {'zipcode': 64136, 'population': 2220}, {'zipcode': 64137, 'population': 10646}, {'zipcode': 64138, 'population': 26032}, {'zipcode': 64139, 'population': 2079}, {'zipcode': 64145, 'population': 5249}, {'zipcode': 64146, 'population': 1506}, {'zipcode': 64147, 'population': 581}, {'zipcode': 64149, 'population': 355}, {'zipcode': 64151, 'population': 26777}, {'zipcode': 64152, 'population': 29231}, {'zipcode': 64153, 'population': 5234}, {'zipcode': 64154, 'population': 10895}, {'zipcode': 64155, 'population': 22917}, {'zipcode': 64156, 'population': 7935}, {'zipcode': 64157, 'population': 19918}, {'zipcode': 64158, 'population': 5041}, {'zipcode': 64161, 'population': 300}, {'zipcode': 64163, 'population': 748}, {'zipcode': 64164, 'population': 213}, {'zipcode': 64165, 'population': 215}, {'zipcode': 64166, 'population': 285}, {'zipcode': 64167, 'population': 446}, {'zipcode': 64192, 'population': 0}]]\n"
     ]
    }
   ],
   "source": [
    "print(data_list)"
   ]
  },
  {
   "cell_type": "code",
   "execution_count": null,
   "metadata": {},
   "outputs": [],
   "source": []
  }
 ],
 "metadata": {
  "kernelspec": {
   "display_name": "Python [conda env:PythondData]",
   "language": "python",
   "name": "conda-env-PythondData-py"
  },
  "language_info": {
   "codemirror_mode": {
    "name": "ipython",
    "version": 3
   },
   "file_extension": ".py",
   "mimetype": "text/x-python",
   "name": "python",
   "nbconvert_exporter": "python",
   "pygments_lexer": "ipython3",
   "version": "3.6.10"
  }
 },
 "nbformat": 4,
 "nbformat_minor": 4
}
