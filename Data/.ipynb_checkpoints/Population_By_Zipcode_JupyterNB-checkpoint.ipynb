{
 "cells": [
  {
   "cell_type": "markdown",
   "metadata": {},
   "source": [
    "### Data sources:\n",
    "    \n",
    "Census Bureau https://github.com/datamade/census\n",
    "\n",
    "https://public.opendatasoft.com/ provides latitude and longitude coordinates for all zip codes (saved as Zip_Lat_Lon.json).  "
   ]
  },
  {
   "cell_type": "code",
   "execution_count": 1,
   "metadata": {},
   "outputs": [],
   "source": [
    "#Import desired tools needed for data collections and analysis\n",
    "\n",
    "import pandas as pd\n",
    "import json\n",
    "import requests\n",
    "from config import census_key\n",
    "from census import Census\n",
    "c = Census(census_key, year=2018)"
   ]
  },
  {
   "cell_type": "code",
   "execution_count": 2,
   "metadata": {},
   "outputs": [
    {
     "data": {
      "text/html": [
       "<div>\n",
       "<style scoped>\n",
       "    .dataframe tbody tr th:only-of-type {\n",
       "        vertical-align: middle;\n",
       "    }\n",
       "\n",
       "    .dataframe tbody tr th {\n",
       "        vertical-align: top;\n",
       "    }\n",
       "\n",
       "    .dataframe thead th {\n",
       "        text-align: right;\n",
       "    }\n",
       "</style>\n",
       "<table border=\"1\" class=\"dataframe\">\n",
       "  <thead>\n",
       "    <tr style=\"text-align: right;\">\n",
       "      <th></th>\n",
       "      <th>Zipcode</th>\n",
       "      <th>Population</th>\n",
       "    </tr>\n",
       "  </thead>\n",
       "  <tbody>\n",
       "    <tr>\n",
       "      <th>0</th>\n",
       "      <td>43964</td>\n",
       "      <td>8642.0</td>\n",
       "    </tr>\n",
       "    <tr>\n",
       "      <th>1</th>\n",
       "      <td>28216</td>\n",
       "      <td>51116.0</td>\n",
       "    </tr>\n",
       "    <tr>\n",
       "      <th>2</th>\n",
       "      <td>28277</td>\n",
       "      <td>71605.0</td>\n",
       "    </tr>\n",
       "    <tr>\n",
       "      <th>3</th>\n",
       "      <td>28278</td>\n",
       "      <td>27286.0</td>\n",
       "    </tr>\n",
       "    <tr>\n",
       "      <th>4</th>\n",
       "      <td>28303</td>\n",
       "      <td>29414.0</td>\n",
       "    </tr>\n",
       "    <tr>\n",
       "      <th>...</th>\n",
       "      <td>...</td>\n",
       "      <td>...</td>\n",
       "    </tr>\n",
       "    <tr>\n",
       "      <th>33115</th>\n",
       "      <td>98279</td>\n",
       "      <td>628.0</td>\n",
       "    </tr>\n",
       "    <tr>\n",
       "      <th>33116</th>\n",
       "      <td>98280</td>\n",
       "      <td>417.0</td>\n",
       "    </tr>\n",
       "    <tr>\n",
       "      <th>33117</th>\n",
       "      <td>98311</td>\n",
       "      <td>27856.0</td>\n",
       "    </tr>\n",
       "    <tr>\n",
       "      <th>33118</th>\n",
       "      <td>98326</td>\n",
       "      <td>657.0</td>\n",
       "    </tr>\n",
       "    <tr>\n",
       "      <th>33119</th>\n",
       "      <td>98332</td>\n",
       "      <td>18321.0</td>\n",
       "    </tr>\n",
       "  </tbody>\n",
       "</table>\n",
       "<p>33120 rows × 2 columns</p>\n",
       "</div>"
      ],
      "text/plain": [
       "      Zipcode  Population\n",
       "0       43964      8642.0\n",
       "1       28216     51116.0\n",
       "2       28277     71605.0\n",
       "3       28278     27286.0\n",
       "4       28303     29414.0\n",
       "...       ...         ...\n",
       "33115   98279       628.0\n",
       "33116   98280       417.0\n",
       "33117   98311     27856.0\n",
       "33118   98326       657.0\n",
       "33119   98332     18321.0\n",
       "\n",
       "[33120 rows x 2 columns]"
      ]
     },
     "execution_count": 2,
     "metadata": {},
     "output_type": "execute_result"
    }
   ],
   "source": [
    "# Collect Population Data from Census API\n",
    "\n",
    "#Import Census API data\n",
    "census_data = c.acs5.get((\"NAME\", \"B01003_001E\"), \n",
    "                         {'for': 'zip code tabulation area:*'})\n",
    "\n",
    "# Convert to DataFrame\n",
    "census_pd = pd.DataFrame(census_data)\n",
    "\n",
    "# Organize and rename columns\n",
    "census_pd = census_pd.rename(columns={\"B01003_001E\": \"Population\",\n",
    "                                      \"NAME\": \"Name\", \"zip code tabulation area\": \"Zipcode\"})\n",
    "\n",
    "census_pd = census_pd[[\"Zipcode\", \"Population\"]]\n",
    "                       \n",
    "census_pd"
   ]
  },
  {
   "cell_type": "code",
   "execution_count": 3,
   "metadata": {},
   "outputs": [
    {
     "name": "stdout",
     "output_type": "stream",
     "text": [
      "0        {'type': 'Point', 'coordinates': [-94.39398, 3...\n",
      "1        {'type': 'Point', 'coordinates': [-92.16056, 3...\n",
      "2        {'type': 'Point', 'coordinates': [-94.74357, 4...\n",
      "3        {'type': 'Point', 'coordinates': [-85.89754, 4...\n",
      "4        {'type': 'Point', 'coordinates': [-91.98027, 4...\n",
      "                               ...                        \n",
      "43186    {'type': 'Point', 'coordinates': [-79.93414, 4...\n",
      "43187    {'type': 'Point', 'coordinates': [-91.54559, 4...\n",
      "43188    {'type': 'Point', 'coordinates': [-78.07012, 4...\n",
      "43189    {'type': 'Point', 'coordinates': [-93.47188, 4...\n",
      "43190    {'type': 'Point', 'coordinates': [-76.594942, ...\n",
      "Name: geometry, Length: 43191, dtype: object\n"
     ]
    }
   ],
   "source": [
    "#Read josn file listing all zip codes in KS\n",
    "#json file was downloaded from https://public.opendatasoft.com/\n",
    "Zips = pd.read_json(\"Zip_Lat_Lon.json\", orient=\"list\")\n",
    "print(Zips['geometry'])"
   ]
  },
  {
   "cell_type": "code",
   "execution_count": 4,
   "metadata": {},
   "outputs": [
    {
     "data": {
      "text/plain": [
       "Index(['datasetid', 'recordid', 'fields', 'geometry', 'record_timestamp'], dtype='object')"
      ]
     },
     "execution_count": 4,
     "metadata": {},
     "output_type": "execute_result"
    }
   ],
   "source": [
    "Zips.columns"
   ]
  },
  {
   "cell_type": "code",
   "execution_count": 5,
   "metadata": {},
   "outputs": [
    {
     "data": {
      "text/plain": [
       "0        {'city': 'Cove', 'zip': '71937', 'dst': 1, 'ge...\n",
       "1        {'city': 'Edgemont', 'zip': '72044', 'dst': 1,...\n",
       "2        {'city': 'Sherburn', 'zip': '56171', 'dst': 1,...\n",
       "3        {'city': 'Lamont', 'zip': '49430', 'dst': 1, '...\n",
       "4        {'city': 'Richland', 'zip': '52585', 'dst': 1,...\n",
       "                               ...                        \n",
       "43186    {'city': 'Pittsburgh', 'zip': '15207', 'dst': ...\n",
       "43187    {'city': 'Olds', 'zip': '52647', 'dst': 1, 'ge...\n",
       "43188    {'city': 'Spruce Creek', 'zip': '16683', 'dst'...\n",
       "43189    {'city': 'Minneapolis', 'zip': '55459', 'dst':...\n",
       "43190    {'city': 'Pasadena', 'zip': '21123', 'dst': 1,...\n",
       "Name: fields, Length: 43191, dtype: object"
      ]
     },
     "execution_count": 5,
     "metadata": {},
     "output_type": "execute_result"
    }
   ],
   "source": [
    "Zips['fields']"
   ]
  },
  {
   "cell_type": "code",
   "execution_count": null,
   "metadata": {},
   "outputs": [],
   "source": [
    "#Select data from \"Fields\" series and separate dictionaries into data series in new dataframe\n",
    "#Choose zipcodes for KS and MO only\n",
    "Zip = pd.concat([Zips.drop(['fields'], axis=1), Zips['fields'].apply(pd.Series)], axis=1)\n",
    "Zip_Codes = Zip[[\"city\", \"state\", \"zip\", \"latitude\", \"longitude\"]]\n",
    "Zip_Codes = Zip_Codes.rename(columns={\"zip\": \"Zipcode\"})\n",
    "Zip_Codes = Zip_Codes.loc[(Zip_Codes[\"state\"] == \"MO\")|(Zip_Codes[\"state\"] == \"KS\")]\n",
    "Zip_Codes[\"state\"].unique()\n"
   ]
  },
  {
   "cell_type": "code",
   "execution_count": null,
   "metadata": {},
   "outputs": [],
   "source": [
    "#Combine population data with zipcode location data\n",
    "Population_df = pd.merge(census_pd, Zip_Codes, on=\"Zipcode\")\n",
    "Population_df.to_csv(\"Population_by_Zipcode\", index=False)\n",
    "Population_df"
   ]
  },
  {
   "cell_type": "code",
   "execution_count": null,
   "metadata": {},
   "outputs": [],
   "source": []
  },
  {
   "cell_type": "code",
   "execution_count": null,
   "metadata": {},
   "outputs": [],
   "source": []
  }
 ],
 "metadata": {
  "kernelspec": {
   "display_name": "Python 3",
   "language": "python",
   "name": "python3"
  },
  "language_info": {
   "codemirror_mode": {
    "name": "ipython",
    "version": 3
   },
   "file_extension": ".py",
   "mimetype": "text/x-python",
   "name": "python",
   "nbconvert_exporter": "python",
   "pygments_lexer": "ipython3",
   "version": "3.7.6"
  }
 },
 "nbformat": 4,
 "nbformat_minor": 4
}
